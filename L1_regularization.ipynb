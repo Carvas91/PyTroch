{
  "nbformat": 4,
  "nbformat_minor": 0,
  "metadata": {
    "colab": {
      "provenance": [],
      "authorship_tag": "ABX9TyNlrCQZHbQvT3aPhrY8Eptl",
      "include_colab_link": true
    },
    "kernelspec": {
      "name": "python3",
      "display_name": "Python 3"
    },
    "language_info": {
      "name": "python"
    }
  },
  "cells": [
    {
      "cell_type": "markdown",
      "metadata": {
        "id": "view-in-github",
        "colab_type": "text"
      },
      "source": [
        "<a href=\"https://colab.research.google.com/github/Carvas91/PyTroch/blob/main/L1_regularization.ipynb\" target=\"_parent\"><img src=\"https://colab.research.google.com/assets/colab-badge.svg\" alt=\"Open In Colab\"/></a>"
      ]
    },
    {
      "cell_type": "code",
      "execution_count": 1,
      "metadata": {
        "id": "h6WNwql6WEqE"
      },
      "outputs": [],
      "source": [
        "import torch\n",
        "import torch.nn as nn\n",
        "import numpy as np\n",
        "import matplotlib.pyplot as plt\n",
        "from sklearn.model_selection import train_test_split\n",
        "from torch.utils.data import DataLoader,  TensorDataset\n",
        "import seaborn as sns"
      ]
    },
    {
      "cell_type": "code",
      "source": [
        "iris = sns.load_dataset('iris')\n",
        "\n",
        "data = torch.tensor(iris[iris.columns[0:4]].values).float()\n",
        "labels = torch.zeros(len(data),dtype=torch.long)\n",
        "labels[iris.species == 'virginica'] = 2\n",
        "labels[iris.species == 'versicolor'] = 1\n",
        "labels"
      ],
      "metadata": {
        "colab": {
          "base_uri": "https://localhost:8080/"
        },
        "id": "Fy0xNy0UW2fx",
        "outputId": "24a65549-99d7-4ba4-8c84-8396ab10ee06"
      },
      "execution_count": 2,
      "outputs": [
        {
          "output_type": "execute_result",
          "data": {
            "text/plain": [
              "tensor([0, 0, 0, 0, 0, 0, 0, 0, 0, 0, 0, 0, 0, 0, 0, 0, 0, 0, 0, 0, 0, 0, 0, 0,\n",
              "        0, 0, 0, 0, 0, 0, 0, 0, 0, 0, 0, 0, 0, 0, 0, 0, 0, 0, 0, 0, 0, 0, 0, 0,\n",
              "        0, 0, 1, 1, 1, 1, 1, 1, 1, 1, 1, 1, 1, 1, 1, 1, 1, 1, 1, 1, 1, 1, 1, 1,\n",
              "        1, 1, 1, 1, 1, 1, 1, 1, 1, 1, 1, 1, 1, 1, 1, 1, 1, 1, 1, 1, 1, 1, 1, 1,\n",
              "        1, 1, 1, 1, 2, 2, 2, 2, 2, 2, 2, 2, 2, 2, 2, 2, 2, 2, 2, 2, 2, 2, 2, 2,\n",
              "        2, 2, 2, 2, 2, 2, 2, 2, 2, 2, 2, 2, 2, 2, 2, 2, 2, 2, 2, 2, 2, 2, 2, 2,\n",
              "        2, 2, 2, 2, 2, 2])"
            ]
          },
          "metadata": {},
          "execution_count": 2
        }
      ]
    },
    {
      "cell_type": "code",
      "source": [
        "data_train, data_test, labels_train, labels_test =train_test_split(data, labels, test_size=0.2)\n",
        "\n",
        "train_data = TensorDataset(data_train, labels_train)\n",
        "test_data = TensorDataset(data_test, labels_test)\n",
        "\n",
        "train_loader = DataLoader(train_data, batch_size=64, drop_last=True)\n",
        "test_loader = DataLoader(test_data, batch_size=test_data.tensors[0].shape[0])\n",
        "\n"
      ],
      "metadata": {
        "id": "C16eIkIhYfKW"
      },
      "execution_count": 3,
      "outputs": []
    },
    {
      "cell_type": "code",
      "source": [
        "def createModel():\n",
        "  ANNiris = nn.Sequential(\n",
        "      nn.Linear(4,64),\n",
        "      nn.ReLU(),\n",
        "      nn.Linear(64,64),\n",
        "      nn.ReLU(),\n",
        "      nn.Linear(64,3)\n",
        "  )\n",
        "\n",
        "  lossfun = nn.CrossEntropyLoss()\n",
        "  optimizer = torch.optim.SGD(ANNiris.parameters(), lr=0.005)\n",
        "\n",
        "  return  ANNiris, lossfun, optimizer"
      ],
      "metadata": {
        "id": "pGMDVwNNYlrN"
      },
      "execution_count": 4,
      "outputs": []
    },
    {
      "cell_type": "code",
      "source": [
        "tmpmodel = createModel()[0]\n",
        "\n",
        "print(tmpmodel)\n",
        "\n",
        "for i in tmpmodel.named_parameters():\n",
        "  print(i[0], i[1].shape, i[1].numel())"
      ],
      "metadata": {
        "colab": {
          "base_uri": "https://localhost:8080/"
        },
        "id": "NBxJ5-ywcIkf",
        "outputId": "9e95b795-0ff5-4081-baa5-982fdf17c0de"
      },
      "execution_count": 5,
      "outputs": [
        {
          "output_type": "stream",
          "name": "stdout",
          "text": [
            "Sequential(\n",
            "  (0): Linear(in_features=4, out_features=64, bias=True)\n",
            "  (1): ReLU()\n",
            "  (2): Linear(in_features=64, out_features=64, bias=True)\n",
            "  (3): ReLU()\n",
            "  (4): Linear(in_features=64, out_features=3, bias=True)\n",
            ")\n",
            "0.weight torch.Size([64, 4]) 256\n",
            "0.bias torch.Size([64]) 64\n",
            "2.weight torch.Size([64, 64]) 4096\n",
            "2.bias torch.Size([64]) 64\n",
            "4.weight torch.Size([3, 64]) 192\n",
            "4.bias torch.Size([3]) 3\n"
          ]
        }
      ]
    },
    {
      "cell_type": "code",
      "source": [
        "weights = 0\n",
        "for name, weight in tmpmodel.named_parameters():\n",
        "  if 'bias' not in name:\n",
        "    weights = weights + weight.numel()\n",
        "\n",
        "weights\n"
      ],
      "metadata": {
        "colab": {
          "base_uri": "https://localhost:8080/"
        },
        "id": "1HLZnG9huOtz",
        "outputId": "c464c1e1-5824-4004-af43-caf82bb51f06"
      },
      "execution_count": 6,
      "outputs": [
        {
          "output_type": "execute_result",
          "data": {
            "text/plain": [
              "4544"
            ]
          },
          "metadata": {},
          "execution_count": 6
        }
      ]
    },
    {
      "cell_type": "code",
      "source": [
        "\n",
        "epochs = 1000\n",
        "\n",
        "def trainModel(L1lambda):\n",
        "  trainAcc = []\n",
        "  testAcc = []\n",
        "  losses = []\n",
        "\n",
        "  nweights = 0\n",
        "  for pname,weight in ANNiris.named_parameters():\n",
        "    if 'bias' not in pname:\n",
        "      nweights = nweights + weight.numel()\n",
        "\n",
        "  for epoch in range(epochs):\n",
        "    batchAcc = []\n",
        "    batchLoss = []\n",
        "\n",
        "    for X,y in train_loader:\n",
        "      yHat = ANNiris(X)\n",
        "      loss = lossfun(yHat,y)\n",
        "\n",
        "      L1_term = torch.tensor(0.,requires_grad=True)\n",
        "\n",
        "      for name, weight in ANNiris.named_parameters():\n",
        "        if 'bias' not in name:\n",
        "          L1_term = L1_term + torch.sum(torch.abs(weight))\n",
        "\n",
        "      loss = loss + L1lambda*L1_term/nweights\n",
        "\n",
        "\n",
        "      optimizer.zero_grad()\n",
        "      loss.backward()\n",
        "      optimizer.step()\n",
        "\n",
        "      batchAcc.append(torch.mean((torch.argmax(yHat,axis=1)==y).float()).item()*100)\n",
        "      batchLoss.append(loss.item())\n",
        "\n",
        "    trainAcc.append(np.mean(batchAcc))\n",
        "    losses.append(np.mean(batchLoss))\n",
        "\n",
        "    X,y = next(iter(test_loader))\n",
        "    predlabels = torch.argmax(ANNiris(X),axis=1)\n",
        "    testAcc.append(torch.mean((predlabels==y).float()).item()*100)\n",
        "\n",
        "  return trainAcc, testAcc, losses\n",
        "\n",
        "\n",
        "\n"
      ],
      "metadata": {
        "id": "uE1S8PxyiSS5"
      },
      "execution_count": 7,
      "outputs": []
    },
    {
      "cell_type": "code",
      "source": [
        "ANNiris, lossfun, optimizer = createModel()\n",
        "\n",
        "L1lambda = .001\n",
        "\n",
        "trainAcc, testAcc, losses = trainModel(L1lambda)"
      ],
      "metadata": {
        "id": "L5U3S8zKzdvB"
      },
      "execution_count": 8,
      "outputs": []
    },
    {
      "cell_type": "code",
      "source": [
        "fig ,ax = plt.subplots(1,2,figsize = (15,5))\n",
        "\n",
        "ax[0].plot(losses, 'k^-')\n",
        "ax[0].set_ylabel('Loss')\n",
        "ax[0].set_xlabel('Epochs')\n",
        "ax[0].set_title('Loss with L1 reg $\\lambda$=' + str(L1lambda))\n",
        "\n",
        "ax[1].plot(trainAcc, 'ro-')\n",
        "ax[1].plot(testAcc, 'bs-')\n",
        "ax[1].set_ylabel('Acc')\n",
        "ax[1].set_xlabel('Epochs')\n",
        "ax[1].set_title('Acc L1 reg $\\lambda$=' + str(L1lambda))\n",
        "ax[1].legend(['train','test'])\n",
        "\n",
        "plt.show()"
      ],
      "metadata": {
        "colab": {
          "base_uri": "https://localhost:8080/",
          "height": 266
        },
        "id": "G85YtrHOzyLy",
        "outputId": "adb2d507-9f88-4844-dba4-1cb049bddc51"
      },
      "execution_count": 9,
      "outputs": [
        {
          "output_type": "display_data",
          "data": {
            "text/plain": [
              "<Figure size 1500x500 with 2 Axes>"
            ],
            "image/png": "[encoded data removed]"
          },
          "metadata": {}
        }
      ]
    }
  ]
}