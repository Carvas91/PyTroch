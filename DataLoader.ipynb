{
  "nbformat": 4,
  "nbformat_minor": 0,
  "metadata": {
    "colab": {
      "provenance": [],
      "authorship_tag": "ABX9TyNVywXOmDUDdyqtLetJEPQh",
      "include_colab_link": true
    },
    "kernelspec": {
      "name": "python3",
      "display_name": "Python 3"
    },
    "language_info": {
      "name": "python"
    }
  },
  "cells": [
    {
      "cell_type": "markdown",
      "metadata": {
        "id": "view-in-github",
        "colab_type": "text"
      },
      "source": [
        "<a href=\"https://colab.research.google.com/github/Carvas91/PyTroch/blob/main/DataLoader.ipynb\" target=\"_parent\"><img src=\"https://colab.research.google.com/assets/colab-badge.svg\" alt=\"Open In Colab\"/></a>"
      ]
    },
    {
      "cell_type": "code",
      "execution_count": 68,
      "metadata": {
        "id": "DJxVIDm8Bh_E"
      },
      "outputs": [],
      "source": [
        "import torch\n",
        "import torch.nn as nn\n",
        "import numpy as np\n",
        "import matplotlib.pyplot as plt\n",
        "from sklearn.model_selection import train_test_split\n",
        "from torch.utils.data import DataLoader, TensorDataset\n"
      ]
    },
    {
      "cell_type": "code",
      "source": [
        "import seaborn as sns\n",
        "\n",
        "iris = sns.load_dataset('iris')\n",
        "\n",
        "data = torch.tensor(iris[iris.columns[0:4]].values).float()\n",
        "labels = torch.zeros(len(data), dtype=torch.long)\n",
        "\n",
        "labels[iris.species == 'versicolor'] = 1\n",
        "labels[iris.species == 'virginica'] = 2\n",
        "\n",
        "labels"
      ],
      "metadata": {
        "colab": {
          "base_uri": "https://localhost:8080/"
        },
        "id": "6fAViWjCCZLG",
        "outputId": "abefa1a4-2d24-45a6-b433-80a451756642"
      },
      "execution_count": 69,
      "outputs": [
        {
          "output_type": "execute_result",
          "data": {
            "text/plain": [
              "tensor([0, 0, 0, 0, 0, 0, 0, 0, 0, 0, 0, 0, 0, 0, 0, 0, 0, 0, 0, 0, 0, 0, 0, 0,\n",
              "        0, 0, 0, 0, 0, 0, 0, 0, 0, 0, 0, 0, 0, 0, 0, 0, 0, 0, 0, 0, 0, 0, 0, 0,\n",
              "        0, 0, 1, 1, 1, 1, 1, 1, 1, 1, 1, 1, 1, 1, 1, 1, 1, 1, 1, 1, 1, 1, 1, 1,\n",
              "        1, 1, 1, 1, 1, 1, 1, 1, 1, 1, 1, 1, 1, 1, 1, 1, 1, 1, 1, 1, 1, 1, 1, 1,\n",
              "        1, 1, 1, 1, 2, 2, 2, 2, 2, 2, 2, 2, 2, 2, 2, 2, 2, 2, 2, 2, 2, 2, 2, 2,\n",
              "        2, 2, 2, 2, 2, 2, 2, 2, 2, 2, 2, 2, 2, 2, 2, 2, 2, 2, 2, 2, 2, 2, 2, 2,\n",
              "        2, 2, 2, 2, 2, 2])"
            ]
          },
          "metadata": {},
          "execution_count": 69
        }
      ]
    },
    {
      "cell_type": "code",
      "source": [
        "train_data, test_data, train_labels, test_labels =train_test_split(data,labels,test_size=.2)\n",
        "\n",
        "#Tensor DF\n",
        "train_data = TensorDataset(train_data,train_labels)\n",
        "test_data = TensorDataset(test_data, test_labels)\n",
        "\n",
        "# #Data loader\n",
        "train_loader = DataLoader(train_data, batch_size=12)\n",
        "test_loader = DataLoader(test_data, batch_size=test_data.tensors[0].shape[0])"
      ],
      "metadata": {
        "id": "-x7WlmRRVL3b"
      },
      "execution_count": 70,
      "outputs": []
    },
    {
      "cell_type": "code",
      "source": [
        "for X,y in enumerate(train_loader):\n",
        "  print(X,y)"
      ],
      "metadata": {
        "colab": {
          "base_uri": "https://localhost:8080/"
        },
        "id": "NshfLnoghr9R",
        "outputId": "cf8aca53-2e37-443b-cf2e-49604d0f8b62"
      },
      "execution_count": 71,
      "outputs": [
        {
          "output_type": "stream",
          "name": "stdout",
          "text": [
            "0 [tensor([[6.7000, 3.3000, 5.7000, 2.1000],\n",
            "        [5.1000, 3.5000, 1.4000, 0.2000],\n",
            "        [7.9000, 3.8000, 6.4000, 2.0000],\n",
            "        [5.0000, 3.4000, 1.6000, 0.4000],\n",
            "        [6.2000, 2.8000, 4.8000, 1.8000],\n",
            "        [5.8000, 2.7000, 5.1000, 1.9000],\n",
            "        [4.7000, 3.2000, 1.6000, 0.2000],\n",
            "        [5.0000, 3.2000, 1.2000, 0.2000],\n",
            "        [5.2000, 2.7000, 3.9000, 1.4000],\n",
            "        [5.4000, 3.7000, 1.5000, 0.2000],\n",
            "        [6.2000, 2.2000, 4.5000, 1.5000],\n",
            "        [4.8000, 3.0000, 1.4000, 0.3000]]), tensor([2, 0, 2, 0, 2, 2, 0, 0, 1, 0, 1, 0])]\n",
            "1 [tensor([[5.7000, 2.8000, 4.1000, 1.3000],\n",
            "        [4.9000, 2.4000, 3.3000, 1.0000],\n",
            "        [6.4000, 2.8000, 5.6000, 2.2000],\n",
            "        [6.7000, 3.1000, 5.6000, 2.4000],\n",
            "        [5.1000, 3.4000, 1.5000, 0.2000],\n",
            "        [5.4000, 3.9000, 1.7000, 0.4000],\n",
            "        [5.6000, 3.0000, 4.5000, 1.5000],\n",
            "        [7.2000, 3.2000, 6.0000, 1.8000],\n",
            "        [6.7000, 2.5000, 5.8000, 1.8000],\n",
            "        [6.7000, 3.1000, 4.7000, 1.5000],\n",
            "        [6.4000, 2.7000, 5.3000, 1.9000],\n",
            "        [5.7000, 2.6000, 3.5000, 1.0000]]), tensor([1, 1, 2, 2, 0, 0, 1, 2, 2, 1, 2, 1])]\n",
            "2 [tensor([[5.0000, 3.5000, 1.6000, 0.6000],\n",
            "        [5.4000, 3.9000, 1.3000, 0.4000],\n",
            "        [4.9000, 2.5000, 4.5000, 1.7000],\n",
            "        [7.4000, 2.8000, 6.1000, 1.9000],\n",
            "        [6.2000, 2.9000, 4.3000, 1.3000],\n",
            "        [5.0000, 3.4000, 1.5000, 0.2000],\n",
            "        [5.8000, 2.7000, 4.1000, 1.0000],\n",
            "        [6.4000, 3.2000, 5.3000, 2.3000],\n",
            "        [6.3000, 3.4000, 5.6000, 2.4000],\n",
            "        [5.1000, 3.7000, 1.5000, 0.4000],\n",
            "        [5.5000, 2.5000, 4.0000, 1.3000],\n",
            "        [5.8000, 4.0000, 1.2000, 0.2000]]), tensor([0, 0, 2, 2, 1, 0, 1, 2, 2, 0, 1, 0])]\n",
            "3 [tensor([[6.0000, 2.2000, 4.0000, 1.0000],\n",
            "        [5.8000, 2.7000, 3.9000, 1.2000],\n",
            "        [5.5000, 2.3000, 4.0000, 1.3000],\n",
            "        [4.9000, 3.1000, 1.5000, 0.1000],\n",
            "        [4.5000, 2.3000, 1.3000, 0.3000],\n",
            "        [6.7000, 3.3000, 5.7000, 2.5000],\n",
            "        [4.8000, 3.4000, 1.9000, 0.2000],\n",
            "        [7.2000, 3.6000, 6.1000, 2.5000],\n",
            "        [6.0000, 3.0000, 4.8000, 1.8000],\n",
            "        [4.4000, 3.2000, 1.3000, 0.2000],\n",
            "        [5.0000, 3.3000, 1.4000, 0.2000],\n",
            "        [6.3000, 2.9000, 5.6000, 1.8000]]), tensor([1, 1, 1, 0, 0, 2, 0, 2, 2, 0, 0, 2])]\n",
            "4 [tensor([[6.7000, 3.0000, 5.2000, 2.3000],\n",
            "        [5.6000, 2.9000, 3.6000, 1.3000],\n",
            "        [5.0000, 3.6000, 1.4000, 0.2000],\n",
            "        [4.9000, 3.6000, 1.4000, 0.1000],\n",
            "        [4.6000, 3.4000, 1.4000, 0.3000],\n",
            "        [5.6000, 2.5000, 3.9000, 1.1000],\n",
            "        [6.0000, 3.4000, 4.5000, 1.6000],\n",
            "        [7.7000, 2.6000, 6.9000, 2.3000],\n",
            "        [6.0000, 2.9000, 4.5000, 1.5000],\n",
            "        [6.8000, 2.8000, 4.8000, 1.4000],\n",
            "        [6.1000, 2.6000, 5.6000, 1.4000],\n",
            "        [4.6000, 3.6000, 1.0000, 0.2000]]), tensor([2, 1, 0, 0, 0, 1, 1, 2, 1, 1, 2, 0])]\n",
            "5 [tensor([[6.1000, 2.8000, 4.0000, 1.3000],\n",
            "        [4.8000, 3.0000, 1.4000, 0.1000],\n",
            "        [5.5000, 2.4000, 3.7000, 1.0000],\n",
            "        [7.7000, 3.8000, 6.7000, 2.2000],\n",
            "        [6.1000, 2.8000, 4.7000, 1.2000],\n",
            "        [6.3000, 2.5000, 4.9000, 1.5000],\n",
            "        [4.4000, 2.9000, 1.4000, 0.2000],\n",
            "        [5.0000, 2.0000, 3.5000, 1.0000],\n",
            "        [6.3000, 3.3000, 4.7000, 1.6000],\n",
            "        [5.7000, 2.5000, 5.0000, 2.0000],\n",
            "        [5.5000, 3.5000, 1.3000, 0.2000],\n",
            "        [4.9000, 3.0000, 1.4000, 0.2000]]), tensor([1, 0, 1, 2, 1, 1, 0, 1, 1, 2, 0, 0])]\n",
            "6 [tensor([[6.1000, 3.0000, 4.6000, 1.4000],\n",
            "        [6.3000, 2.5000, 5.0000, 1.9000],\n",
            "        [6.3000, 2.8000, 5.1000, 1.5000],\n",
            "        [5.7000, 3.8000, 1.7000, 0.3000],\n",
            "        [6.9000, 3.2000, 5.7000, 2.3000],\n",
            "        [5.7000, 2.8000, 4.5000, 1.3000],\n",
            "        [7.2000, 3.0000, 5.8000, 1.6000],\n",
            "        [6.0000, 2.2000, 5.0000, 1.5000],\n",
            "        [5.0000, 3.5000, 1.3000, 0.3000],\n",
            "        [4.7000, 3.2000, 1.3000, 0.2000],\n",
            "        [6.5000, 2.8000, 4.6000, 1.5000],\n",
            "        [7.7000, 3.0000, 6.1000, 2.3000]]), tensor([1, 2, 2, 0, 2, 1, 2, 2, 0, 0, 1, 2])]\n",
            "7 [tensor([[5.8000, 2.6000, 4.0000, 1.2000],\n",
            "        [7.1000, 3.0000, 5.9000, 2.1000],\n",
            "        [7.0000, 3.2000, 4.7000, 1.4000],\n",
            "        [4.8000, 3.4000, 1.6000, 0.2000],\n",
            "        [6.5000, 3.0000, 5.2000, 2.0000],\n",
            "        [5.8000, 2.8000, 5.1000, 2.4000],\n",
            "        [5.4000, 3.4000, 1.7000, 0.2000],\n",
            "        [7.3000, 2.9000, 6.3000, 1.8000],\n",
            "        [6.3000, 3.3000, 6.0000, 2.5000],\n",
            "        [5.7000, 3.0000, 4.2000, 1.2000],\n",
            "        [5.6000, 2.7000, 4.2000, 1.3000],\n",
            "        [5.9000, 3.0000, 4.2000, 1.5000]]), tensor([1, 2, 1, 0, 2, 2, 0, 2, 2, 1, 1, 1])]\n",
            "8 [tensor([[6.7000, 3.1000, 4.4000, 1.4000],\n",
            "        [4.8000, 3.1000, 1.6000, 0.2000],\n",
            "        [6.9000, 3.1000, 4.9000, 1.5000],\n",
            "        [6.6000, 3.0000, 4.4000, 1.4000],\n",
            "        [5.9000, 3.0000, 5.1000, 1.8000],\n",
            "        [5.2000, 3.4000, 1.4000, 0.2000],\n",
            "        [5.4000, 3.0000, 4.5000, 1.5000],\n",
            "        [7.6000, 3.0000, 6.6000, 2.1000],\n",
            "        [4.9000, 3.1000, 1.5000, 0.2000],\n",
            "        [6.9000, 3.1000, 5.1000, 2.3000],\n",
            "        [6.1000, 3.0000, 4.9000, 1.8000],\n",
            "        [5.1000, 3.8000, 1.9000, 0.4000]]), tensor([1, 0, 1, 1, 2, 0, 1, 2, 0, 2, 2, 0])]\n",
            "9 [tensor([[6.5000, 3.2000, 5.1000, 2.0000],\n",
            "        [6.4000, 3.1000, 5.5000, 1.8000],\n",
            "        [5.1000, 2.5000, 3.0000, 1.1000],\n",
            "        [6.8000, 3.2000, 5.9000, 2.3000],\n",
            "        [5.0000, 2.3000, 3.3000, 1.0000],\n",
            "        [6.7000, 3.0000, 5.0000, 1.7000],\n",
            "        [5.1000, 3.5000, 1.4000, 0.3000],\n",
            "        [5.8000, 2.7000, 5.1000, 1.9000],\n",
            "        [4.6000, 3.2000, 1.4000, 0.2000],\n",
            "        [4.6000, 3.1000, 1.5000, 0.2000],\n",
            "        [6.5000, 3.0000, 5.5000, 1.8000],\n",
            "        [5.6000, 3.0000, 4.1000, 1.3000]]), tensor([2, 2, 1, 2, 1, 1, 0, 2, 0, 0, 2, 1])]\n"
          ]
        }
      ]
    },
    {
      "cell_type": "code",
      "source": [
        "for X,y in train_loader:\n",
        "  print(X.shape, y.shape)"
      ],
      "metadata": {
        "colab": {
          "base_uri": "https://localhost:8080/"
        },
        "id": "DhRXBt3kkoAl",
        "outputId": "34d52af5-222a-400b-ff11-77e49be4d42b"
      },
      "execution_count": 72,
      "outputs": [
        {
          "output_type": "stream",
          "name": "stdout",
          "text": [
            "torch.Size([12, 4]) torch.Size([12])\n",
            "torch.Size([12, 4]) torch.Size([12])\n",
            "torch.Size([12, 4]) torch.Size([12])\n",
            "torch.Size([12, 4]) torch.Size([12])\n",
            "torch.Size([12, 4]) torch.Size([12])\n",
            "torch.Size([12, 4]) torch.Size([12])\n",
            "torch.Size([12, 4]) torch.Size([12])\n",
            "torch.Size([12, 4]) torch.Size([12])\n",
            "torch.Size([12, 4]) torch.Size([12])\n",
            "torch.Size([12, 4]) torch.Size([12])\n"
          ]
        }
      ]
    },
    {
      "cell_type": "code",
      "source": [
        "for X,y in test_loader:\n",
        "  print(X.shape, y.shape)"
      ],
      "metadata": {
        "colab": {
          "base_uri": "https://localhost:8080/"
        },
        "id": "Kfzws5lCopd_",
        "outputId": "dfcca12b-d79c-43cb-bc41-c604813f4789"
      },
      "execution_count": 73,
      "outputs": [
        {
          "output_type": "stream",
          "name": "stdout",
          "text": [
            "torch.Size([30, 4]) torch.Size([30])\n"
          ]
        }
      ]
    },
    {
      "cell_type": "code",
      "source": [
        "def createModel():\n",
        "  ANNIris = nn.Sequential(\n",
        "      nn.Linear(4,64),\n",
        "      nn.ReLU(),\n",
        "      nn.Linear(64,64),\n",
        "      nn.ReLU(),\n",
        "      nn.Linear(64,3)\n",
        "  )\n",
        "\n",
        "  lossfun = nn.CrossEntropyLoss()\n",
        "\n",
        "  optimizer = torch.optim.SGD(ANNIris.parameters(), lr=0.01)\n",
        "\n",
        "  return ANNIris, lossfun, optimizer\n"
      ],
      "metadata": {
        "id": "RsZFLXX1oyT7"
      },
      "execution_count": 74,
      "outputs": []
    },
    {
      "cell_type": "code",
      "source": [
        "from ast import AnnAssign\n",
        "epochs = 100\n",
        "\n",
        "def trainModel():\n",
        "  trainAcc = []\n",
        "  testAcc = []\n",
        "\n",
        "  for i in range(epochs):\n",
        "    batchAcc = []\n",
        "\n",
        "    for X,y in train_loader:\n",
        "      yHat = ANNIris(X)\n",
        "      loss = lossfun(yHat,y)\n",
        "\n",
        "      #Back prop\n",
        "      optimizer.zero_grad()\n",
        "      loss.backward()\n",
        "      optimizer.step()\n",
        "\n",
        "      batchAcc.append(torch.mean((torch.argmax(yHat, axis=1)==y).float()).item()*100)\n",
        "\n",
        "    trainAcc.append(np.mean(batchAcc))\n",
        "\n",
        "    X,y = next(iter(test_loader))\n",
        "    preds = torch.argmax(ANNIris(X),axis=1)\n",
        "    testAcc.append(torch.mean((preds == y).float()).item()*100)\n",
        "\n",
        "  return trainAcc, testAcc"
      ],
      "metadata": {
        "id": "i4KRzNGmpkEk"
      },
      "execution_count": 75,
      "outputs": []
    },
    {
      "cell_type": "code",
      "source": [
        "ANNIris, lossfun, optimizer = createModel()\n",
        "\n",
        "trainAcc, testAcc = trainModel()"
      ],
      "metadata": {
        "id": "yZJ0DuySs9ts"
      },
      "execution_count": 76,
      "outputs": []
    },
    {
      "cell_type": "code",
      "source": [
        "plt.figure(figsize=(10,5))\n",
        "plt.plot(trainAcc, 'ro-')\n",
        "plt.plot(testAcc, 'bs-')\n",
        "plt.xlabel('epochs')\n",
        "plt.ylabel('ACC')\n",
        "plt.legend(['train acc','test acc'])\n",
        "plt.title('ACC over epochs')\n",
        "plt.show()"
      ],
      "metadata": {
        "colab": {
          "base_uri": "https://localhost:8080/",
          "height": 377
        },
        "id": "B_i_-WW54gj-",
        "outputId": "fbd55698-e85e-4176-af94-b3bf6bc6b369"
      },
      "execution_count": 77,
      "outputs": [
        {
          "output_type": "display_data",
          "data": {
            "text/plain": [
              "<Figure size 1000x500 with 1 Axes>"
            ],
            "image/png": "[encoded data removed]"
          },
          "metadata": {}
        }
      ]
    }
  ]
}