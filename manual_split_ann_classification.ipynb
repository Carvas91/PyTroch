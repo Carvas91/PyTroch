{
  "nbformat": 4,
  "nbformat_minor": 0,
  "metadata": {
    "colab": {
      "provenance": [],
      "authorship_tag": "ABX9TyPg1DucIzhQ5lntGZvNNLqJ",
      "include_colab_link": true
    },
    "kernelspec": {
      "name": "python3",
      "display_name": "Python 3"
    },
    "language_info": {
      "name": "python"
    }
  },
  "cells": [
    {
      "cell_type": "markdown",
      "metadata": {
        "id": "view-in-github",
        "colab_type": "text"
      },
      "source": [
        "<a href=\"https://colab.research.google.com/github/Carvas91/PyTroch/blob/main/manual_split_ann_classification.ipynb\" target=\"_parent\"><img src=\"https://colab.research.google.com/assets/colab-badge.svg\" alt=\"Open In Colab\"/></a>"
      ]
    },
    {
      "cell_type": "code",
      "execution_count": 1,
      "metadata": {
        "id": "MJSqkNN1whGI"
      },
      "outputs": [],
      "source": [
        "import numpy as np\n",
        "import torch\n",
        "import torch.nn as nn\n",
        "import seaborn as sns"
      ]
    },
    {
      "cell_type": "code",
      "source": [
        "iris = sns.load_dataset('iris')\n",
        "\n",
        "data = torch.tensor(iris[iris.columns[0:4]].values).float()\n",
        "\n",
        "labels = torch.zeros(len(data), dtype=torch.long)\n",
        "labels[iris.species == 'versicolor'] = 1\n",
        "labels[iris.species == 'virginica'] = 2"
      ],
      "metadata": {
        "id": "32qy7AD4xC6X"
      },
      "execution_count": 2,
      "outputs": []
    },
    {
      "cell_type": "code",
      "source": [
        "labels"
      ],
      "metadata": {
        "colab": {
          "base_uri": "https://localhost:8080/"
        },
        "id": "3wh2DVuzx8GU",
        "outputId": "69d7a447-c8d7-429f-d1b2-c325b22f8858"
      },
      "execution_count": 11,
      "outputs": [
        {
          "output_type": "execute_result",
          "data": {
            "text/plain": [
              "tensor([0, 0, 0, 0, 0, 0, 0, 0, 0, 0, 0, 0, 0, 0, 0, 0, 0, 0, 0, 0, 0, 0, 0, 0,\n",
              "        0, 0, 0, 0, 0, 0, 0, 0, 0, 0, 0, 0, 0, 0, 0, 0, 0, 0, 0, 0, 0, 0, 0, 0,\n",
              "        0, 0, 1, 1, 1, 1, 1, 1, 1, 1, 1, 1, 1, 1, 1, 1, 1, 1, 1, 1, 1, 1, 1, 1,\n",
              "        1, 1, 1, 1, 1, 1, 1, 1, 1, 1, 1, 1, 1, 1, 1, 1, 1, 1, 1, 1, 1, 1, 1, 1,\n",
              "        1, 1, 1, 1, 2, 2, 2, 2, 2, 2, 2, 2, 2, 2, 2, 2, 2, 2, 2, 2, 2, 2, 2, 2,\n",
              "        2, 2, 2, 2, 2, 2, 2, 2, 2, 2, 2, 2, 2, 2, 2, 2, 2, 2, 2, 2, 2, 2, 2, 2,\n",
              "        2, 2, 2, 2, 2, 2])"
            ]
          },
          "metadata": {},
          "execution_count": 11
        }
      ]
    },
    {
      "cell_type": "code",
      "source": [
        "propTraining = .8\n",
        "nTraining = int(len(labels)*propTraining)\n",
        "\n",
        "\n",
        "traintestBool = np.zeros(len(labels),dtype=bool)\n",
        "\n",
        "items2use4train = np.random.choice(range(len(labels)), nTraining, replace=False)\n",
        "\n",
        "traintestBool[items2use4train] = True\n",
        "\n",
        "traintestBool"
      ],
      "metadata": {
        "colab": {
          "base_uri": "https://localhost:8080/"
        },
        "id": "CSiBMwlGx86O",
        "outputId": "f57f8fc7-47d6-4a64-fcca-44e97ec81e99"
      },
      "execution_count": 30,
      "outputs": [
        {
          "output_type": "execute_result",
          "data": {
            "text/plain": [
              "array([ True,  True, False,  True,  True,  True,  True,  True,  True,\n",
              "       False,  True,  True,  True,  True,  True,  True,  True,  True,\n",
              "        True,  True,  True,  True, False,  True,  True,  True,  True,\n",
              "       False,  True,  True,  True, False,  True, False,  True, False,\n",
              "        True,  True,  True,  True,  True, False,  True,  True,  True,\n",
              "       False,  True, False,  True,  True,  True, False,  True,  True,\n",
              "        True,  True,  True,  True, False, False,  True, False,  True,\n",
              "        True, False,  True,  True,  True,  True,  True,  True, False,\n",
              "        True,  True,  True,  True,  True,  True,  True,  True, False,\n",
              "        True,  True,  True, False,  True,  True,  True,  True, False,\n",
              "        True, False,  True,  True,  True,  True,  True,  True,  True,\n",
              "        True,  True,  True,  True,  True,  True,  True,  True,  True,\n",
              "        True,  True,  True,  True,  True,  True,  True, False,  True,\n",
              "       False, False,  True,  True, False,  True,  True, False, False,\n",
              "        True,  True,  True,  True,  True,  True, False,  True, False,\n",
              "        True,  True,  True,  True,  True,  True,  True, False,  True,\n",
              "       False,  True,  True,  True,  True,  True])"
            ]
          },
          "metadata": {},
          "execution_count": 30
        }
      ]
    },
    {
      "cell_type": "code",
      "source": [
        "len(data[traintestBool])"
      ],
      "metadata": {
        "colab": {
          "base_uri": "https://localhost:8080/"
        },
        "id": "Qx42kK8Iz0_F",
        "outputId": "abb9e740-90d0-438c-cc68-c2b1ed43e12b"
      },
      "execution_count": 31,
      "outputs": [
        {
          "output_type": "execute_result",
          "data": {
            "text/plain": [
              "120"
            ]
          },
          "metadata": {},
          "execution_count": 31
        }
      ]
    },
    {
      "cell_type": "code",
      "source": [
        "len(data[~traintestBool])"
      ],
      "metadata": {
        "colab": {
          "base_uri": "https://localhost:8080/"
        },
        "id": "V0gxgMuT1AJp",
        "outputId": "48d1d209-294b-414d-8d32-b22b9d4de070"
      },
      "execution_count": 32,
      "outputs": [
        {
          "output_type": "execute_result",
          "data": {
            "text/plain": [
              "30"
            ]
          },
          "metadata": {},
          "execution_count": 32
        }
      ]
    },
    {
      "cell_type": "code",
      "source": [
        "torch.mean(labels.float())"
      ],
      "metadata": {
        "colab": {
          "base_uri": "https://localhost:8080/"
        },
        "id": "fRiFCQ9v1Uyl",
        "outputId": "0f6bde02-7d45-4b21-9ec4-0db09b5f4419"
      },
      "execution_count": 33,
      "outputs": [
        {
          "output_type": "execute_result",
          "data": {
            "text/plain": [
              "tensor(1.)"
            ]
          },
          "metadata": {},
          "execution_count": 33
        }
      ]
    },
    {
      "cell_type": "code",
      "source": [
        "ANNIris = nn.Sequential(\n",
        "    nn.Linear(4,64),\n",
        "    nn.ReLU(),\n",
        "    nn.Linear(64,64),\n",
        "    nn.ReLU(),\n",
        "    nn.Linear(64,3)\n",
        ")\n",
        "\n",
        "lossfun = nn.CrossEntropyLoss()\n",
        "\n",
        "optimizer = torch.optim.SGD(ANNIris.parameters(), lr=0.01)"
      ],
      "metadata": {
        "id": "a9RkTtuK4Gcu"
      },
      "execution_count": 34,
      "outputs": []
    },
    {
      "cell_type": "code",
      "source": [
        "print(data.shape)\n",
        "\n",
        "print(data[traintestBool].shape)\n",
        "\n",
        "print(data[~traintestBool].shape)"
      ],
      "metadata": {
        "colab": {
          "base_uri": "https://localhost:8080/"
        },
        "id": "dHbzBFCe7tVA",
        "outputId": "b6b1806f-4970-4ea4-a18e-e96482d6c494"
      },
      "execution_count": 35,
      "outputs": [
        {
          "output_type": "stream",
          "name": "stdout",
          "text": [
            "torch.Size([150, 4])\n",
            "torch.Size([120, 4])\n",
            "torch.Size([30, 4])\n"
          ]
        }
      ]
    },
    {
      "cell_type": "code",
      "source": [
        "epochs =1000\n",
        "\n",
        "losses = torch.zeros(epochs)\n",
        "\n",
        "ongoingacc = []\n",
        "\n",
        "\n",
        "for i in range(epochs):\n",
        "  yHat = ANNIris(data[traintestBool])\n",
        "\n",
        "  ongoingacc.append(100* torch.mean(\n",
        "      (torch.argmax(yHat, axis=1) == labels[traintestBool]).float()\n",
        "  ))\n",
        "\n",
        "  loss = lossfun(yHat, labels[traintestBool])\n",
        "  losses[i] = loss\n",
        "\n",
        "  optimizer.zero_grad()\n",
        "  loss.backward()\n",
        "  optimizer.step()\n",
        "\n",
        ""
      ],
      "metadata": {
        "id": "skoes7TF75S9"
      },
      "execution_count": 36,
      "outputs": []
    },
    {
      "cell_type": "code",
      "source": [
        "trainpreds = ANNIris(data[traintestBool])\n",
        "\n",
        "trainacc = torch.mean((torch.argmax(trainpreds,axis=1) == labels[traintestBool]).float()) * 100\n",
        "\n",
        "\n",
        "\n",
        "testpreds = ANNIris(data[~traintestBool])\n",
        "\n",
        "testacc = torch.mean(\n",
        "    (torch.argmax(testpreds, axis=1) == labels[~traintestBool]).float()\n",
        ")*100\n",
        "\n",
        "\n",
        "print('Train acc %g%%' %trainacc)\n",
        "\n",
        "print('Test acc %g%%' %testacc)"
      ],
      "metadata": {
        "colab": {
          "base_uri": "https://localhost:8080/"
        },
        "id": "WflFSdkl9kdA",
        "outputId": "246b9af4-8f99-4600-da54-fe0e5f04cf17"
      },
      "execution_count": 37,
      "outputs": [
        {
          "output_type": "stream",
          "name": "stdout",
          "text": [
            "Train acc 97.5%\n",
            "Test acc 100%\n"
          ]
        }
      ]
    }
  ]
}