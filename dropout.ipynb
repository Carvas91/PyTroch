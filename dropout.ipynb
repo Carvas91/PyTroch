{
  "nbformat": 4,
  "nbformat_minor": 0,
  "metadata": {
    "colab": {
      "provenance": [],
      "authorship_tag": "ABX9TyMlqNx08McyKWyzi/Voo6X+",
      "include_colab_link": true
    },
    "kernelspec": {
      "name": "python3",
      "display_name": "Python 3"
    },
    "language_info": {
      "name": "python"
    }
  },
  "cells": [
    {
      "cell_type": "markdown",
      "metadata": {
        "id": "view-in-github",
        "colab_type": "text"
      },
      "source": [
        "<a href=\"https://colab.research.google.com/github/Carvas91/PyTroch/blob/main/dropout.ipynb\" target=\"_parent\"><img src=\"https://colab.research.google.com/assets/colab-badge.svg\" alt=\"Open In Colab\"/></a>"
      ]
    },
    {
      "cell_type": "code",
      "execution_count": 1,
      "metadata": {
        "id": "MqVduJ8rAjFT"
      },
      "outputs": [],
      "source": [
        "import torch\n",
        "import torch.nn as nn\n",
        "import torch.nn.functional as F"
      ]
    },
    {
      "cell_type": "code",
      "source": [
        "prob = .5\n",
        "\n",
        "drop = nn.Dropout(p=prob)\n",
        "x = torch.ones(10)\n",
        "\n",
        "y = drop(x)\n",
        "\n",
        "print(x)\n",
        "print(y)\n",
        "print(torch.mean(y))"
      ],
      "metadata": {
        "colab": {
          "base_uri": "https://localhost:8080/"
        },
        "id": "7iQy0nMZGdmt",
        "outputId": "535e7c4b-54b2-4e23-fbcc-7cd587cf8194"
      },
      "execution_count": 9,
      "outputs": [
        {
          "output_type": "stream",
          "name": "stdout",
          "text": [
            "tensor([1., 1., 1., 1., 1., 1., 1., 1., 1., 1.])\n",
            "tensor([2., 0., 2., 0., 2., 2., 2., 2., 0., 0.])\n",
            "tensor(1.2000)\n"
          ]
        }
      ]
    },
    {
      "cell_type": "code",
      "source": [
        "drop.eval()\n",
        "\n",
        "y = drop(x)\n",
        "\n",
        "print(x)\n",
        "print(y)\n",
        "print(torch.mean(y))"
      ],
      "metadata": {
        "colab": {
          "base_uri": "https://localhost:8080/"
        },
        "id": "AVCVe4B-GzAg",
        "outputId": "d671d626-2e99-407d-a220-2b93c36b8227"
      },
      "execution_count": 3,
      "outputs": [
        {
          "output_type": "stream",
          "name": "stdout",
          "text": [
            "tensor([1., 1., 1., 1., 1., 1., 1., 1., 1., 1.])\n",
            "tensor([1., 1., 1., 1., 1., 1., 1., 1., 1., 1.])\n",
            "tensor(1.)\n"
          ]
        }
      ]
    },
    {
      "cell_type": "code",
      "source": [
        "drop.eval()\n",
        "\n",
        "y = F.dropout(x)\n",
        "\n",
        "print(y)\n",
        "print(torch.mean(y))\n"
      ],
      "metadata": {
        "id": "U7heyOVwG7E3",
        "colab": {
          "base_uri": "https://localhost:8080/"
        },
        "outputId": "12af06a9-e901-4e22-c805-1667065c9921"
      },
      "execution_count": 10,
      "outputs": [
        {
          "output_type": "stream",
          "name": "stdout",
          "text": [
            "tensor([0., 2., 0., 2., 0., 0., 0., 2., 2., 0.])\n",
            "tensor(0.8000)\n"
          ]
        }
      ]
    },
    {
      "cell_type": "code",
      "source": [
        "y = F.dropout(x, training=False)\n",
        "print(y)\n",
        "print(torch.mean(y))"
      ],
      "metadata": {
        "colab": {
          "base_uri": "https://localhost:8080/"
        },
        "id": "FZZMeKWjh1o2",
        "outputId": "d22222a4-9b6b-49f0-c423-e92afb3cc11c"
      },
      "execution_count": 11,
      "outputs": [
        {
          "output_type": "stream",
          "name": "stdout",
          "text": [
            "tensor([1., 1., 1., 1., 1., 1., 1., 1., 1., 1.])\n",
            "tensor(1.)\n"
          ]
        }
      ]
    },
    {
      "cell_type": "code",
      "source": [
        "drop.train()\n",
        "\n",
        "y = drop(x)\n",
        "print(y)\n",
        "\n",
        "drop.eval()\n",
        "y = drop(x)\n",
        "print(y)\n",
        "\n"
      ],
      "metadata": {
        "colab": {
          "base_uri": "https://localhost:8080/"
        },
        "id": "xHpGiKoQiDbt",
        "outputId": "78369515-cb7c-4607-c072-2f666ead534d"
      },
      "execution_count": 12,
      "outputs": [
        {
          "output_type": "stream",
          "name": "stdout",
          "text": [
            "tensor([2., 0., 0., 0., 0., 2., 0., 0., 0., 2.])\n",
            "tensor([1., 1., 1., 1., 1., 1., 1., 1., 1., 1.])\n"
          ]
        }
      ]
    }
  ]
}