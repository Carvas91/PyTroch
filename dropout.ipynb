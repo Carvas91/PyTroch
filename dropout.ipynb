{
  "nbformat": 4,
  "nbformat_minor": 0,
  "metadata": {
    "colab": {
      "provenance": [],
      "authorship_tag": "ABX9TyPMPOez83bRF3IPT06P2zlO",
      "include_colab_link": true
    },
    "kernelspec": {
      "name": "python3",
      "display_name": "Python 3"
    },
    "language_info": {
      "name": "python"
    }
  },
  "cells": [
    {
      "cell_type": "markdown",
      "metadata": {
        "id": "view-in-github",
        "colab_type": "text"
      },
      "source": [
        "<a href=\"https://colab.research.google.com/github/Carvas91/PyTroch/blob/main/dropout.ipynb\" target=\"_parent\"><img src=\"https://colab.research.google.com/assets/colab-badge.svg\" alt=\"Open In Colab\"/></a>"
      ]
    },
    {
      "cell_type": "code",
      "execution_count": 5,
      "metadata": {
        "id": "MqVduJ8rAjFT"
      },
      "outputs": [],
      "source": [
        "import torch\n",
        "import torch.nn as nn\n",
        "import torch.nn.functional as F"
      ]
    },
    {
      "cell_type": "code",
      "source": [
        "prob = .5\n",
        "\n",
        "drop = nn.Dropout(p=prob)\n",
        "x = torch.ones(10)\n",
        "\n",
        "y = drop(x)\n",
        "\n",
        "print(x)\n",
        "print(y)\n",
        "print(torch.mean(y))"
      ],
      "metadata": {
        "colab": {
          "base_uri": "https://localhost:8080/"
        },
        "id": "7iQy0nMZGdmt",
        "outputId": "0780df6f-86a9-43b4-9677-82340b7ba9fa"
      },
      "execution_count": 6,
      "outputs": [
        {
          "output_type": "stream",
          "name": "stdout",
          "text": [
            "tensor([1., 1., 1., 1., 1., 1., 1., 1., 1., 1.])\n",
            "tensor([0., 2., 2., 0., 2., 0., 2., 0., 2., 2.])\n",
            "tensor(1.2000)\n"
          ]
        }
      ]
    },
    {
      "cell_type": "code",
      "source": [
        "drop.eval()\n",
        "\n",
        "y = drop(x)\n",
        "\n",
        "print(x)\n",
        "print(y)\n",
        "print(torch.mean(y))"
      ],
      "metadata": {
        "colab": {
          "base_uri": "https://localhost:8080/"
        },
        "id": "AVCVe4B-GzAg",
        "outputId": "eb48ef9f-79d6-4e99-e5e3-8d06dffcf1d3"
      },
      "execution_count": 8,
      "outputs": [
        {
          "output_type": "stream",
          "name": "stdout",
          "text": [
            "tensor([1., 1., 1., 1., 1., 1., 1., 1., 1., 1.])\n",
            "tensor([1., 1., 1., 1., 1., 1., 1., 1., 1., 1.])\n",
            "tensor(1.)\n"
          ]
        }
      ]
    },
    {
      "cell_type": "code",
      "source": [],
      "metadata": {
        "id": "U7heyOVwG7E3"
      },
      "execution_count": 2,
      "outputs": []
    }
  ]
}