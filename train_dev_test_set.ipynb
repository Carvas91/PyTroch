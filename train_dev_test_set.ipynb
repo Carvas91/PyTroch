{
  "nbformat": 4,
  "nbformat_minor": 0,
  "metadata": {
    "colab": {
      "provenance": [],
      "authorship_tag": "ABX9TyNimxQkhNdQJtn/3iUSbVv4",
      "include_colab_link": true
    },
    "kernelspec": {
      "name": "python3",
      "display_name": "Python 3"
    },
    "language_info": {
      "name": "python"
    }
  },
  "cells": [
    {
      "cell_type": "markdown",
      "metadata": {
        "id": "view-in-github",
        "colab_type": "text"
      },
      "source": [
        "<a href=\"https://colab.research.google.com/github/Carvas91/PyTroch/blob/main/train_dev_test_set.ipynb\" target=\"_parent\"><img src=\"https://colab.research.google.com/assets/colab-badge.svg\" alt=\"Open In Colab\"/></a>"
      ]
    },
    {
      "cell_type": "code",
      "execution_count": 1,
      "metadata": {
        "id": "ZhLoYMkuEW0a"
      },
      "outputs": [],
      "source": [
        "import numpy as np\n",
        "from sklearn.model_selection import train_test_split"
      ]
    },
    {
      "cell_type": "code",
      "source": [
        "fakedata = np.tile(np.array([1,2,3,4]),(10,1)) + np.tile(10 * np.arange(1,11),(4,1)).T\n",
        "\n",
        "fakelabels = np.arange(10) > 4\n",
        "\n",
        "print(fakedata), print('')\n",
        "print(fakelabels)"
      ],
      "metadata": {
        "colab": {
          "base_uri": "https://localhost:8080/"
        },
        "id": "Tt6JunZrEoNY",
        "outputId": "c7c7bbfb-246b-4943-d4c7-57e1a12f30a7"
      },
      "execution_count": 2,
      "outputs": [
        {
          "output_type": "stream",
          "name": "stdout",
          "text": [
            "[[ 11  12  13  14]\n",
            " [ 21  22  23  24]\n",
            " [ 31  32  33  34]\n",
            " [ 41  42  43  44]\n",
            " [ 51  52  53  54]\n",
            " [ 61  62  63  64]\n",
            " [ 71  72  73  74]\n",
            " [ 81  82  83  84]\n",
            " [ 91  92  93  94]\n",
            " [101 102 103 104]]\n",
            "\n",
            "[False False False False False  True  True  True  True  True]\n"
          ]
        }
      ]
    },
    {
      "cell_type": "code",
      "source": [
        "partitions = [.8, .1,.1] #.8 train, .1 dev set, .1 test set\n",
        "\n",
        "train_data, test_data, train_labels, test_labels = train_test_split(fakedata, fakelabels, train_size=partitions[0])\n",
        "\n",
        "split = partitions[1]/np.sum(partitions[1:])\n",
        "\n",
        "devset_data, test_data, devset_labels, test_labels = train_test_split(test_data,test_labels,  train_size=split)"
      ],
      "metadata": {
        "id": "y72TyPqWFQc-"
      },
      "execution_count": 3,
      "outputs": []
    },
    {
      "cell_type": "code",
      "source": [
        "print(train_data.shape, test_data.shape)\n",
        "print(devset_data.shape,devset_labels.shape)\n",
        "print(test_data.shape,test_labels.shape)"
      ],
      "metadata": {
        "colab": {
          "base_uri": "https://localhost:8080/"
        },
        "id": "aMdmiOnyHclW",
        "outputId": "0d4ec9a4-8d1e-4db6-ec9f-a76a89beeada"
      },
      "execution_count": 4,
      "outputs": [
        {
          "output_type": "stream",
          "name": "stdout",
          "text": [
            "(8, 4) (1, 4)\n",
            "(1, 4) (1,)\n",
            "(1, 4) (1,)\n"
          ]
        }
      ]
    }
  ]
}