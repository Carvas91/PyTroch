{
  "nbformat": 4,
  "nbformat_minor": 0,
  "metadata": {
    "colab": {
      "provenance": [],
      "authorship_tag": "ABX9TyOgrz3x/vQGcvQDPczhMlpe",
      "include_colab_link": true
    },
    "kernelspec": {
      "name": "python3",
      "display_name": "Python 3"
    },
    "language_info": {
      "name": "python"
    }
  },
  "cells": [
    {
      "cell_type": "markdown",
      "metadata": {
        "id": "view-in-github",
        "colab_type": "text"
      },
      "source": [
        "<a href=\"https://colab.research.google.com/github/Carvas91/PyTroch/blob/main/train_test_split.ipynb\" target=\"_parent\"><img src=\"https://colab.research.google.com/assets/colab-badge.svg\" alt=\"Open In Colab\"/></a>"
      ]
    },
    {
      "cell_type": "code",
      "execution_count": 1,
      "metadata": {
        "id": "-XI8qYxzV8ro"
      },
      "outputs": [],
      "source": [
        "import torch\n",
        "import torch.nn as nn\n",
        "import numpy as np\n",
        "import matplotlib.pyplot as plt\n",
        "\n",
        "from sklearn.model_selection import train_test_split"
      ]
    },
    {
      "cell_type": "code",
      "source": [
        "import seaborn as sns\n",
        "\n",
        "iris = sns.load_dataset('iris')\n",
        "\n",
        "data = torch.tensor(iris[iris.columns[0:4]].values).float()\n",
        "\n",
        "labels = torch.zeros(len(data),dtype=torch.long)\n",
        "\n",
        "labels[iris.species == 'versicolor' ] = 1\n",
        "labels[iris.species == 'virginica'] = 2"
      ],
      "metadata": {
        "id": "CD5TmOtHZhp1"
      },
      "execution_count": 2,
      "outputs": []
    },
    {
      "cell_type": "code",
      "source": [
        "labels"
      ],
      "metadata": {
        "colab": {
          "base_uri": "https://localhost:8080/"
        },
        "id": "547rSjNjau8Q",
        "outputId": "9adf2094-6e23-4602-e512-77ebefe77a06"
      },
      "execution_count": 3,
      "outputs": [
        {
          "output_type": "execute_result",
          "data": {
            "text/plain": [
              "tensor([0, 0, 0, 0, 0, 0, 0, 0, 0, 0, 0, 0, 0, 0, 0, 0, 0, 0, 0, 0, 0, 0, 0, 0,\n",
              "        0, 0, 0, 0, 0, 0, 0, 0, 0, 0, 0, 0, 0, 0, 0, 0, 0, 0, 0, 0, 0, 0, 0, 0,\n",
              "        0, 0, 1, 1, 1, 1, 1, 1, 1, 1, 1, 1, 1, 1, 1, 1, 1, 1, 1, 1, 1, 1, 1, 1,\n",
              "        1, 1, 1, 1, 1, 1, 1, 1, 1, 1, 1, 1, 1, 1, 1, 1, 1, 1, 1, 1, 1, 1, 1, 1,\n",
              "        1, 1, 1, 1, 2, 2, 2, 2, 2, 2, 2, 2, 2, 2, 2, 2, 2, 2, 2, 2, 2, 2, 2, 2,\n",
              "        2, 2, 2, 2, 2, 2, 2, 2, 2, 2, 2, 2, 2, 2, 2, 2, 2, 2, 2, 2, 2, 2, 2, 2,\n",
              "        2, 2, 2, 2, 2, 2])"
            ]
          },
          "metadata": {},
          "execution_count": 3
        }
      ]
    },
    {
      "cell_type": "code",
      "source": [
        "fakedata = np.tile(np.array([1,2,3,4]),(10,1)) + np.tile(10*np.arange(1,11),(4,1)).T\n",
        "\n",
        "fakelabels = np.arange(10)>4\n",
        "\n",
        "print(fakedata)\n",
        "\n",
        "print(fakelabels)"
      ],
      "metadata": {
        "colab": {
          "base_uri": "https://localhost:8080/"
        },
        "id": "NDdtpV8bavcn",
        "outputId": "cc578795-1b49-48f5-aba4-89309ff8c176"
      },
      "execution_count": 4,
      "outputs": [
        {
          "output_type": "stream",
          "name": "stdout",
          "text": [
            "[[ 11  12  13  14]\n",
            " [ 21  22  23  24]\n",
            " [ 31  32  33  34]\n",
            " [ 41  42  43  44]\n",
            " [ 51  52  53  54]\n",
            " [ 61  62  63  64]\n",
            " [ 71  72  73  74]\n",
            " [ 81  82  83  84]\n",
            " [ 91  92  93  94]\n",
            " [101 102 103 104]]\n",
            "[False False False False False  True  True  True  True  True]\n"
          ]
        }
      ]
    },
    {
      "cell_type": "code",
      "source": [
        "train_data, test_data, train_labels, test_labels = train_test_split(fakedata, fakelabels, test_size=.2)\n",
        "\n",
        "print(f'Training data size: {train_data.shape}')\n",
        "print(f'Test data size: {test_data.shape}')\n",
        "print(f'Training labels size: {train_labels.shape}')\n",
        "print(f'Test data size: {test_labels.shape}')"
      ],
      "metadata": {
        "colab": {
          "base_uri": "https://localhost:8080/"
        },
        "id": "xNnuMgYxceLF",
        "outputId": "a8a76f61-a5e6-45e2-dbb8-aa574f951e41"
      },
      "execution_count": 5,
      "outputs": [
        {
          "output_type": "stream",
          "name": "stdout",
          "text": [
            "Training data size: (8, 4)\n",
            "Test data size: (2, 4)\n",
            "Training labels size: (8,)\n",
            "Test data size: (2,)\n"
          ]
        }
      ]
    },
    {
      "cell_type": "code",
      "source": [
        "def createModel():\n",
        "  ANNIris = nn.Sequential(\n",
        "      nn.Linear(4,64),\n",
        "      nn.ReLU(),\n",
        "      nn.Linear(64,64),\n",
        "      nn.ReLU(),\n",
        "      nn.Linear(64,3)\n",
        "  )\n",
        "\n",
        "  lossfun = nn.CrossEntropyLoss()\n",
        "\n",
        "  optimizer = torch.optim.SGD(ANNIris.parameters(), lr=0.01)\n",
        "\n",
        "  return ANNIris, lossfun, optimizer"
      ],
      "metadata": {
        "id": "srkBfQhiircM"
      },
      "execution_count": 6,
      "outputs": []
    },
    {
      "cell_type": "code",
      "source": [
        "epochs = 100\n",
        "\n",
        "\n",
        "def trainModel(trainProp, model):\n",
        "    losses = torch.zeros(epochs)\n",
        "    trainacc = []\n",
        "    testacc = []\n",
        "\n",
        "    X_train, X_test, y_train, y_test = train_test_split(data, labels, train_size=trainProp)\n",
        "\n",
        "    for i in range(epochs):\n",
        "\n",
        "\n",
        "        yHat = model(X_train)\n",
        "\n",
        "        loss = lossfun(yHat, y_train)\n",
        "        losses[i] = loss.detach()\n",
        "\n",
        "        optimizer.zero_grad()\n",
        "        loss.backward()\n",
        "        optimizer.step()\n",
        "\n",
        "        trainacc.append(torch.mean((torch.argmax(yHat, axis=1) == y_train).float()).item() * 100)\n",
        "\n",
        "        predlabels = torch.argmax(model(X_test), axis=1)\n",
        "        testacc.append(torch.mean((predlabels == y_test).float()).item() * 100)\n",
        "\n",
        "    return trainacc, testacc  # ✅ Moved outside the loop\n"
      ],
      "metadata": {
        "id": "Sk0ay5WZ2Ypj"
      },
      "execution_count": 13,
      "outputs": []
    },
    {
      "cell_type": "code",
      "source": [
        "ANNIris, lossfun, optimizer = createModel()"
      ],
      "metadata": {
        "id": "HVMcazFl5tlf"
      },
      "execution_count": 14,
      "outputs": []
    },
    {
      "cell_type": "code",
      "source": [
        "trainacc, testacc = trainModel(.8, ANNIris)\n",
        "print(trainacc[-1])\n",
        "print(testacc[-1])"
      ],
      "metadata": {
        "colab": {
          "base_uri": "https://localhost:8080/"
        },
        "id": "9dkl_gxY5yJE",
        "outputId": "1e47906f-12df-4e5c-8347-c9c63cbf4105"
      },
      "execution_count": 15,
      "outputs": [
        {
          "output_type": "stream",
          "name": "stdout",
          "text": [
            "70.83333134651184\n",
            "66.66666865348816\n"
          ]
        }
      ]
    },
    {
      "cell_type": "code",
      "source": [
        "plt.plot(testacc, 'b')\n",
        "plt.plot(trainacc, 'r')\n",
        "plt.xlabel('Epoch')\n",
        "plt.ylabel('Test Accuracy (%)')\n",
        "plt.title('Train/Test Accuracy over Epochs')\n",
        "plt.grid(True)\n",
        "plt.show()"
      ],
      "metadata": {
        "colab": {
          "base_uri": "https://localhost:8080/",
          "height": 472
        },
        "id": "Q5RO9LV66G90",
        "outputId": "9d45d5ea-3cd3-42a0-8891-8b23304fcdbd"
      },
      "execution_count": 18,
      "outputs": [
        {
          "output_type": "display_data",
          "data": {
            "text/plain": [
              "<Figure size 640x480 with 1 Axes>"
            ],
            "image/png": "[encoded data removed]"
          },
          "metadata": {}
        }
      ]
    },
    {
      "cell_type": "code",
      "source": [],
      "metadata": {
        "id": "dT04HsFm7fDl"
      },
      "execution_count": null,
      "outputs": []
    }
  ]
}