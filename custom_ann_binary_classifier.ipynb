{
  "nbformat": 4,
  "nbformat_minor": 0,
  "metadata": {
    "colab": {
      "provenance": []
    },
    "kernelspec": {
      "name": "python3",
      "display_name": "Python 3"
    },
    "language_info": {
      "name": "python"
    }
  },
  "cells": [
    {
      "cell_type": "code",
      "execution_count": 15,
      "metadata": {
        "id": "69c6cqZoYYgW"
      },
      "outputs": [],
      "source": [
        "import torch\n",
        "import torch.nn as nn\n",
        "import torch.nn.functional as F\n",
        "import matplotlib.pyplot as plt\n",
        "import numpy as np"
      ]
    },
    {
      "cell_type": "code",
      "source": [
        "nPerClust = 100\n",
        "blur = 1\n",
        "\n",
        "A = [1,3]\n",
        "B = [1,-2]\n",
        "\n",
        "a = [A[0]+np.random.randn(nPerClust)*blur, A[1]+np.random.randn(nPerClust)*blur]\n",
        "b = [B[0]+np.random.randn(nPerClust)*blur, B[1]+np.random.randn(nPerClust)*blur]\n",
        "\n",
        "labels_np = np.vstack((np.zeros((nPerClust,1)),np.ones((nPerClust,1))))\n",
        "\n",
        "data_np = np.hstack((a,b)).T\n",
        "\n",
        "data = torch.tensor(data_np).float()\n",
        "labels = torch.tensor(labels_np).float()\n"
      ],
      "metadata": {
        "id": "yU6j8bbqYyt9"
      },
      "execution_count": 16,
      "outputs": []
    },
    {
      "cell_type": "code",
      "source": [
        "def createANNModel(learningRate):\n",
        "  class ANNqwerty(nn.Module):\n",
        "    def __init__(self):\n",
        "      super().__init__()\n",
        "      self.input = nn.Linear(2,16)\n",
        "      self.hidden = nn.Linear(16,1)\n",
        "      self.output = nn.Linear(1,1)\n",
        "\n",
        "    def forward(self,x):\n",
        "      x = self.input(x)\n",
        "      x = F.relu(x)\n",
        "\n",
        "      x = self.hidden(x)\n",
        "      x = F.relu(x)\n",
        "\n",
        "      x = self.output(x)\n",
        "      x= torch.sigmoid(x)\n",
        "\n",
        "      return x\n",
        "  ANNClassify = ANNqwerty()\n",
        "\n",
        "  lossfun = nn.BCELoss()\n",
        "\n",
        "  optimizer = torch.optim.SGD(ANNClassify.parameters(), lr=learningRate)\n",
        "\n",
        "  return ANNClassify, lossfun, optimizer\n"
      ],
      "metadata": {
        "id": "UXwrNRJma8Re"
      },
      "execution_count": 17,
      "outputs": []
    },
    {
      "cell_type": "code",
      "source": [
        "epochs = 1000\n",
        "\n",
        "def trainModel(model):\n",
        "  losses = torch.zeros(epochs)\n",
        "\n",
        "  for i in range(epochs):\n",
        "    yHat = model(data)\n",
        "\n",
        "    loss = lossfun(yHat,labels)\n",
        "    losses[i] = loss\n",
        "\n",
        "    optimizer.zero_grad()\n",
        "    loss.backward()\n",
        "    optimizer.step()\n",
        "\n",
        "  preds = model(data)\n",
        "\n",
        "  totalacc = torch.mean(((preds>.5) == labels).float())*100\n",
        "\n",
        "  return losses, preds, totalacc\n"
      ],
      "metadata": {
        "id": "PqcLfptuGBmD"
      },
      "execution_count": 18,
      "outputs": []
    },
    {
      "cell_type": "code",
      "source": [
        "ANNClassify, lossfun, optimizer = createANNModel(0.01)\n",
        "\n",
        "losses, preds, totalacc = trainModel(ANNClassify)\n",
        "\n",
        "print(\"acc is %g%%\" %totalacc)"
      ],
      "metadata": {
        "colab": {
          "base_uri": "https://localhost:8080/"
        },
        "id": "yRA2TJEBFSkU",
        "outputId": "a8574fc8-5f98-4824-c6fb-a4b1eb7cafad"
      },
      "execution_count": 19,
      "outputs": [
        {
          "output_type": "stream",
          "name": "stdout",
          "text": [
            "acc is 99.5%\n"
          ]
        }
      ]
    },
    {
      "cell_type": "code",
      "source": [
        "plt.plot(losses.detach(),'o', markerfacecolor='w', linewidth=.1 )\n",
        "plt.xlabel('Epoch')\n",
        "plt.ylabel('loss')\n",
        "plt.show()"
      ],
      "metadata": {
        "colab": {
          "base_uri": "https://localhost:8080/",
          "height": 449
        },
        "id": "shRYxL_9Ffcs",
        "outputId": "b05c9b7b-20cd-4995-edde-cdf909ed9066"
      },
      "execution_count": 26,
      "outputs": [
        {
          "output_type": "display_data",
          "data": {
            "text/plain": [
              "<Figure size 640x480 with 1 Axes>"
            ],
            "image/png": "[encoded data removed]"
          },
          "metadata": {}
        }
      ]
    }
  ]
}